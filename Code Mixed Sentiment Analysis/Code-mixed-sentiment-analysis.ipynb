{
  "nbformat": 4,
  "nbformat_minor": 0,
  "metadata": {
    "kernelspec": {
      "name": "python3",
      "display_name": "Python 3"
    },
    "language_info": {
      "codemirror_mode": {
        "name": "ipython",
        "version": 3
      },
      "file_extension": ".py",
      "mimetype": "text/x-python",
      "name": "python",
      "nbconvert_exporter": "python",
      "pygments_lexer": "ipython3",
      "version": "3.6.8"
    },
    "colab": {
      "name": "nlp-Assignment-3.ipynb",
      "provenance": [],
      "collapsed_sections": []
    },
    "accelerator": "GPU"
  },
  "cells": [
    {
      "cell_type": "code",
      "metadata": {
        "id": "2kR3ouSjVfJZ",
        "colab_type": "code",
        "colab": {}
      },
      "source": [
        "import pandas as pd\n",
        "import numpy as np\n",
        "import nltk\n",
        "import os\n",
        "import re\n",
        "import string\n",
        "\n",
        "from copy import deepcopy\n",
        "from sklearn.model_selection import train_test_split\n",
        "from tensorflow.python.keras.models import Sequential\n",
        "from tensorflow.python.keras.preprocessing import sequence\n",
        "from tensorflow.python.keras import backend as K\n",
        "from tensorflow.python.keras.layers.core import Dense, Dropout, Activation\n",
        "# from tensorflow.python.keras.layers import Bidirectional\n",
        "from tensorflow.python.keras.layers.embeddings import Embedding\n",
        "from tensorflow.python.keras.layers.recurrent import LSTM, GRU\n",
        "from tensorflow.python.keras.layers.convolutional import Convolution1D, MaxPooling1D\n",
        "\n",
        "from tensorflow.python.keras.utils import np_utils\n",
        "from sklearn.metrics import recall_score,precision_score,f1_score,confusion_matrix,accuracy_score"
      ],
      "execution_count": 0,
      "outputs": []
    },
    {
      "cell_type": "code",
      "metadata": {
        "id": "dLxu3VB0VhYY",
        "colab_type": "code",
        "outputId": "f4033472-b0fa-4c56-d297-88fec21a97eb",
        "colab": {
          "base_uri": "https://localhost:8080/",
          "height": 52
        }
      },
      "source": [
        "from google.colab import drive\n",
        "drive.mount('/gdrive')\n",
        "%cd /gdrive"
      ],
      "execution_count": 2,
      "outputs": [
        {
          "output_type": "stream",
          "text": [
            "Drive already mounted at /gdrive; to attempt to forcibly remount, call drive.mount(\"/gdrive\", force_remount=True).\n",
            "/gdrive\n"
          ],
          "name": "stdout"
        }
      ]
    },
    {
      "cell_type": "markdown",
      "metadata": {
        "id": "hzQjQgxOVfJd",
        "colab_type": "text"
      },
      "source": [
        "## Dataset Preprocessing"
      ]
    },
    {
      "cell_type": "code",
      "metadata": {
        "id": "CN25_vdLVfJd",
        "colab_type": "code",
        "colab": {}
      },
      "source": [
        "def transform_data(datafolder,splitname):\n",
        "    df = open(os.path.join(datafolder,f\"{splitname}.txt\"),'r',encoding='utf-8').readlines()\n",
        "    print('Lines in original file = ',len(df))\n",
        "    c=0\n",
        "    toggle = 0\n",
        "    link_idx = ['']*len(df)\n",
        "\n",
        "    # Storing all indices where there is link(https://*) or tag (@ followed by twitter id) present\n",
        "    for i in range(len(df)):\n",
        "        line = df[i].strip().split('\\t')\n",
        "        https_index = 0\n",
        "        end_index = 0\n",
        "        if(line[0]=='/' or line[0]=='@'):\n",
        "            link_idx[c] = i\n",
        "            link_idx[c+1] = i+1\n",
        "            c += 2\n",
        "            toggle = 0\n",
        "        elif(line[0]=='meta'):\n",
        "            toggle=0\n",
        "        elif(line[0]=='https'):  \n",
        "            link_idx[c] = i\n",
        "            c += 1\n",
        "            toggle = 1\n",
        "            continue\n",
        "        if(toggle):\n",
        "            link_idx[c] = i\n",
        "            c+=1\n",
        "\n",
        "    link_idx = [i for i in link_idx if type(i)==int]\n",
        "    i = j = 0\n",
        "    c = 0\n",
        "    df_new = ['']*(len(df)-len(link_idx))\n",
        "\n",
        "    # Removing tokens containing links or tags.\n",
        "    for j in range(len(link_idx)):\n",
        "        while(i<len(df) and link_idx[j]>i):\n",
        "                df_new[c] = df[i].lower()\n",
        "                c += 1\n",
        "                i += 1\n",
        "        if(link_idx[j]==i):\n",
        "            i += 1\n",
        "    print('Lines after removing links and tags = ',len(df_new))\n",
        "\n",
        "    # Segmenting dataset into 4 lists. Tweets, lang_ids, sentiment and tweet_id\n",
        "    tweets = [0]*len(df_new)\n",
        "    lang_id = [0]*len(df_new)\n",
        "    sentiment = [0]*len(df_new)\n",
        "    tweet_id = [0]*len(df_new)\n",
        "    c = 0\n",
        "    tweet = lang = []\n",
        "    for i in range(len(df_new)):\n",
        "        line = df_new[i].strip().split('\\t')\n",
        "        if(len(line)<2):\n",
        "            continue    \n",
        "        if(line[0]!='meta'):\n",
        "    #         tweet.append(line[0])\n",
        "            tweet.append(''.join([i if ord(i) < 128 else '' for i in line[0]]))\n",
        "            lang.append(line[1])\n",
        "        else:\n",
        "            sentiment[c] = line[2]\n",
        "            tweet_id[c] = line[1]\n",
        "            if(len(tweet)>0 and len(lang)>0):\n",
        "                tweets[c] = tweet\n",
        "                lang_id[c] = lang\n",
        "            tweet = []\n",
        "            lang = []\n",
        "            c+=1\n",
        "    tweets.append(tweet)\n",
        "    lang_id.append(lang)\n",
        "\n",
        "    tweets = [i for i in tweets if(type(i)==list)]\n",
        "    lang_id = [i for i in lang_id if(type(i)==list)]\n",
        "    sentiment = [i for i in sentiment if(type(i)==str)]\n",
        "    tweet_id = [i for i in tweet_id if(type(i)==str)]\n",
        "    return tweets,sentiment"
      ],
      "execution_count": 0,
      "outputs": []
    },
    {
      "cell_type": "markdown",
      "metadata": {
        "id": "or226w_8VfJg",
        "colab_type": "text"
      },
      "source": [
        "## Creating dictionary for characters"
      ]
    },
    {
      "cell_type": "code",
      "metadata": {
        "scrolled": true,
        "id": "VfW2WjXyVfJg",
        "colab_type": "code",
        "colab": {}
      },
      "source": [
        "def create_training_data(tweets,sentiment):\n",
        "    X_train = [0]*len(tweets)\n",
        "    Y_train = [0]*len(sentiment)\n",
        "    for i in range(len(tweets)):\n",
        "        X_train[i] = list(' '.join(tweets[i]))\n",
        "        if(sentiment[i]=='negative'):\n",
        "            Y_train[i] = 0\n",
        "        elif(sentiment[i]=='neutral'):\n",
        "            Y_train[i] = 1\n",
        "        elif(sentiment[i]=='positive'):\n",
        "            Y_train[i] = 2\n",
        "    assert(len(X_train) == len(Y_train))\n",
        "    print('Max length of sequence of characters in dataset = ',max([len(i) for i in X_train]))\n",
        "    return X_train,Y_train\n",
        "\n",
        "def create_mappings(data=None):\n",
        "    char2num = {}\n",
        "    num2char = {}\n",
        "    chars = ['PAD','UNK', ' '] + list(string.ascii_lowercase)\n",
        "    for i in range(len(chars)):\n",
        "        char2num[chars[i]] = i\n",
        "        num2char[i] = chars[i]\n",
        "    return char2num,num2char\n",
        "\n",
        "def convert_to_numbers(data,char2num,MAXLEN=100):\n",
        "    out = [0]*len(data)\n",
        "    for i in range(len(data)):\n",
        "        if(len(data[0])>1):\n",
        "            out[i] = [char2num[j] if j in char2num else 1 for j in data[i]]\n",
        "        elif(len(data[0])==1):\n",
        "            out[i] = char2num[data[i]]\n",
        "    out = sequence.pad_sequences(out[:],maxlen=MAXLEN)\n",
        "    return out\n",
        "def convert_to_characters(data,num2char):\n",
        "    out = [0]*len(data)\n",
        "    for i in range(len(data)):\n",
        "        if(len(np.shape(data))==2):\n",
        "            out[i] = [num2char[j] if j in num2char else 'UNK' for j in data[i]]\n",
        "        elif(len(np.shape(data))==1):\n",
        "            out[i] = num2char[data[i]]\n",
        "    return out"
      ],
      "execution_count": 0,
      "outputs": []
    },
    {
      "cell_type": "markdown",
      "metadata": {
        "id": "BfFwekqWEPUV",
        "colab_type": "text"
      },
      "source": [
        "## Model"
      ]
    },
    {
      "cell_type": "code",
      "metadata": {
        "id": "RGkJnRM1VfJi",
        "colab_type": "code",
        "colab": {}
      },
      "source": [
        "def train_model(X_train,Y_train,X_valid,Y_valid): # default args\n",
        "    model = Sequential()\n",
        "    model.add(Embedding(MAX_FEATURES,EMBEDDING_SIZE,input_length=MAXLEN))\n",
        "    model.add(Convolution1D(\n",
        "            filters=NB_FILTER,\n",
        "            kernel_size=FILTER_LENGTH,\n",
        "            padding='valid',\n",
        "            activation='relu',\n",
        "    ))\n",
        "    model.add(MaxPooling1D(pool_size=POOL_LENGTH))\n",
        "    model.add(LSTM(\n",
        "        LSTM_OUTPUT_SIZE,\n",
        "        dropout=0.2,\n",
        "        recurrent_dropout=0.2,\n",
        "        return_sequences=True))\n",
        "    model.add(LSTM(\n",
        "    LSTM_OUTPUT_SIZE,\n",
        "    dropout=0.2,\n",
        "    recurrent_dropout=0.2,\n",
        "    return_sequences=False))\n",
        "    model.add(Dense(NUM_CLASSES))\n",
        "    model.add(Activation('softmax'))\n",
        "    \n",
        "    model.compile(\n",
        "        loss='categorical_crossentropy',\n",
        "        optimizer='adamax',\n",
        "        metrics=['accuracy'])\n",
        "    print('Model compiled')\n",
        "    print('Training Started')\n",
        "    print(model.summary())\n",
        "    model.fit(X_train,Y_train,\n",
        "             batch_size=BATCH_SIZE,\n",
        "             shuffle=True,\n",
        "             epochs=EPOCHS,\n",
        "             validation_data=(X_valid,Y_valid))\n",
        "    return model"
      ],
      "execution_count": 0,
      "outputs": []
    },
    {
      "cell_type": "code",
      "metadata": {
        "id": "D5KMgrvHVfJk",
        "colab_type": "code",
        "outputId": "45449044-371e-4d6f-ce5e-af93d307aa60",
        "colab": {
          "base_uri": "https://localhost:8080/",
          "height": 70
        }
      },
      "source": [
        "MAXLEN = 150\n",
        "EMBEDDING_SIZE = 128\n",
        "FILTER_LENGTH = 3\n",
        "NB_FILTER = 128\n",
        "POOL_LENGTH = 3\n",
        "LSTM_OUTPUT_SIZE = 128\n",
        "BATCH_SIZE = 128\n",
        "EPOCHS = 25\n",
        "NUM_CLASSES = 3\n",
        "tweets,sentiment = transform_data(datafolder = 'My Drive/7th Semester/NLP/Assignment-3/dataset',splitname = 'train')\n",
        "X_train,Y_train = create_training_data(tweets,sentiment)\n",
        "char2num,num2char = create_mappings(X_train)\n",
        "MAX_FEATURES = len(char2num)\n",
        "assert(len(char2num)==len(num2char))\n",
        "\n",
        "# print('---------------Some sample tweets after preprocessing------------------')\n",
        "# for i in range(20):\n",
        "#     print(''.join(X_train[i]))\n",
        "X_train = convert_to_numbers(X_train,char2num,MAXLEN)\n",
        "Y_train = np_utils.to_categorical(Y_train,NUM_CLASSES)\n",
        "X_train, X_valid, y_train, y_valid = train_test_split(X_train, Y_train, test_size=0.2, random_state=42)"
      ],
      "execution_count": 6,
      "outputs": [
        {
          "output_type": "stream",
          "text": [
            "Lines in original file =  426280\n",
            "Lines after removing links and tags =  325303\n",
            "Max length of sequence of characters in dataset =  147\n"
          ],
          "name": "stdout"
        }
      ]
    },
    {
      "cell_type": "code",
      "metadata": {
        "scrolled": false,
        "id": "UnMPT_KkVfJm",
        "colab_type": "code",
        "outputId": "58b5088d-629a-4866-ddf0-71060327dc4c",
        "colab": {
          "base_uri": "https://localhost:8080/",
          "height": 1000
        }
      },
      "source": [
        "model = train_model(deepcopy(X_train),deepcopy(y_train),deepcopy(X_valid),deepcopy(y_valid))"
      ],
      "execution_count": 7,
      "outputs": [
        {
          "output_type": "stream",
          "text": [
            "WARNING:tensorflow:From /usr/local/lib/python3.6/dist-packages/tensorflow_core/python/keras/initializers.py:119: calling RandomUniform.__init__ (from tensorflow.python.ops.init_ops) with dtype is deprecated and will be removed in a future version.\n",
            "Instructions for updating:\n",
            "Call initializer instance with the dtype argument instead of passing it to the constructor\n",
            "WARNING:tensorflow:From /usr/local/lib/python3.6/dist-packages/tensorflow_core/python/ops/resource_variable_ops.py:1630: calling BaseResourceVariable.__init__ (from tensorflow.python.ops.resource_variable_ops) with constraint is deprecated and will be removed in a future version.\n",
            "Instructions for updating:\n",
            "If using Keras pass *_constraint arguments to layers.\n",
            "Model compiled\n",
            "Training Started\n",
            "Model: \"sequential\"\n",
            "_________________________________________________________________\n",
            "Layer (type)                 Output Shape              Param #   \n",
            "=================================================================\n",
            "embedding (Embedding)        (None, 150, 128)          3712      \n",
            "_________________________________________________________________\n",
            "conv1d (Conv1D)              (None, 148, 128)          49280     \n",
            "_________________________________________________________________\n",
            "max_pooling1d (MaxPooling1D) (None, 49, 128)           0         \n",
            "_________________________________________________________________\n",
            "lstm (LSTM)                  (None, 49, 128)           131584    \n",
            "_________________________________________________________________\n",
            "lstm_1 (LSTM)                (None, 128)               131584    \n",
            "_________________________________________________________________\n",
            "dense (Dense)                (None, 3)                 387       \n",
            "_________________________________________________________________\n",
            "activation (Activation)      (None, 3)                 0         \n",
            "=================================================================\n",
            "Total params: 316,547\n",
            "Trainable params: 316,547\n",
            "Non-trainable params: 0\n",
            "_________________________________________________________________\n",
            "None\n",
            "WARNING:tensorflow:From /usr/local/lib/python3.6/dist-packages/tensorflow_core/python/ops/math_grad.py:1424: where (from tensorflow.python.ops.array_ops) is deprecated and will be removed in a future version.\n",
            "Instructions for updating:\n",
            "Use tf.where in 2.0, which has the same broadcast rule as np.where\n",
            "Train on 12104 samples, validate on 3027 samples\n",
            "Epoch 1/25\n",
            "12104/12104 [==============================] - 24s 2ms/sample - loss: 1.0951 - acc: 0.3695 - val_loss: 1.0937 - val_acc: 0.3835\n",
            "Epoch 2/25\n",
            "12104/12104 [==============================] - 21s 2ms/sample - loss: 1.0919 - acc: 0.3788 - val_loss: 1.0913 - val_acc: 0.3822\n",
            "Epoch 3/25\n",
            "12104/12104 [==============================] - 22s 2ms/sample - loss: 1.0896 - acc: 0.3814 - val_loss: 1.0893 - val_acc: 0.3839\n",
            "Epoch 4/25\n",
            "12104/12104 [==============================] - 22s 2ms/sample - loss: 1.0874 - acc: 0.3827 - val_loss: 1.0875 - val_acc: 0.3859\n",
            "Epoch 5/25\n",
            "12104/12104 [==============================] - 21s 2ms/sample - loss: 1.0857 - acc: 0.3825 - val_loss: 1.0857 - val_acc: 0.3882\n",
            "Epoch 6/25\n",
            "12104/12104 [==============================] - 21s 2ms/sample - loss: 1.0837 - acc: 0.3841 - val_loss: 1.0840 - val_acc: 0.3898\n",
            "Epoch 7/25\n",
            "12104/12104 [==============================] - 20s 2ms/sample - loss: 1.0818 - acc: 0.3900 - val_loss: 1.0823 - val_acc: 0.3938\n",
            "Epoch 8/25\n",
            "12104/12104 [==============================] - 21s 2ms/sample - loss: 1.0798 - acc: 0.3917 - val_loss: 1.0806 - val_acc: 0.3954\n",
            "Epoch 9/25\n",
            "12104/12104 [==============================] - 21s 2ms/sample - loss: 1.0781 - acc: 0.3938 - val_loss: 1.0790 - val_acc: 0.3987\n",
            "Epoch 10/25\n",
            "12104/12104 [==============================] - 21s 2ms/sample - loss: 1.0768 - acc: 0.4010 - val_loss: 1.0775 - val_acc: 0.4034\n",
            "Epoch 11/25\n",
            "12104/12104 [==============================] - 21s 2ms/sample - loss: 1.0744 - acc: 0.4027 - val_loss: 1.0759 - val_acc: 0.4103\n",
            "Epoch 12/25\n",
            "12104/12104 [==============================] - 20s 2ms/sample - loss: 1.0736 - acc: 0.4070 - val_loss: 1.0745 - val_acc: 0.4113\n",
            "Epoch 13/25\n",
            "12104/12104 [==============================] - 20s 2ms/sample - loss: 1.0716 - acc: 0.4077 - val_loss: 1.0729 - val_acc: 0.4182\n",
            "Epoch 14/25\n",
            "12104/12104 [==============================] - 21s 2ms/sample - loss: 1.0700 - acc: 0.4097 - val_loss: 1.0714 - val_acc: 0.4232\n",
            "Epoch 15/25\n",
            "12104/12104 [==============================] - 21s 2ms/sample - loss: 1.0692 - acc: 0.4065 - val_loss: 1.0700 - val_acc: 0.4285\n",
            "Epoch 16/25\n",
            "12104/12104 [==============================] - 21s 2ms/sample - loss: 1.0676 - acc: 0.4165 - val_loss: 1.0685 - val_acc: 0.4318\n",
            "Epoch 17/25\n",
            "12104/12104 [==============================] - 21s 2ms/sample - loss: 1.0655 - acc: 0.4225 - val_loss: 1.0670 - val_acc: 0.4315\n",
            "Epoch 18/25\n",
            "12104/12104 [==============================] - 20s 2ms/sample - loss: 1.0634 - acc: 0.4274 - val_loss: 1.0653 - val_acc: 0.4377\n",
            "Epoch 19/25\n",
            "12104/12104 [==============================] - 21s 2ms/sample - loss: 1.0631 - acc: 0.4228 - val_loss: 1.0636 - val_acc: 0.4354\n",
            "Epoch 20/25\n",
            "12104/12104 [==============================] - 21s 2ms/sample - loss: 1.0611 - acc: 0.4257 - val_loss: 1.0618 - val_acc: 0.4367\n",
            "Epoch 21/25\n",
            "12104/12104 [==============================] - 20s 2ms/sample - loss: 1.0584 - acc: 0.4266 - val_loss: 1.0594 - val_acc: 0.4404\n",
            "Epoch 22/25\n",
            "12104/12104 [==============================] - 20s 2ms/sample - loss: 1.0572 - acc: 0.4223 - val_loss: 1.0568 - val_acc: 0.4427\n",
            "Epoch 23/25\n",
            "12104/12104 [==============================] - 20s 2ms/sample - loss: 1.0553 - acc: 0.4222 - val_loss: 1.0540 - val_acc: 0.4453\n",
            "Epoch 24/25\n",
            "12104/12104 [==============================] - 19s 2ms/sample - loss: 1.0539 - acc: 0.4279 - val_loss: 1.0521 - val_acc: 0.4473\n",
            "Epoch 25/25\n",
            "12104/12104 [==============================] - 20s 2ms/sample - loss: 1.0507 - acc: 0.4326 - val_loss: 1.0511 - val_acc: 0.4490\n"
          ],
          "name": "stdout"
        }
      ]
    },
    {
      "cell_type": "markdown",
      "metadata": {
        "id": "x03ngo2OEX8Q",
        "colab_type": "text"
      },
      "source": [
        "## Evaluation"
      ]
    },
    {
      "cell_type": "code",
      "metadata": {
        "id": "cMpKHwgS7yvD",
        "colab_type": "code",
        "colab": {}
      },
      "source": [
        "def evaluate(X_test,y_test,model):\n",
        "    y_predicted = model.predict(X_test)\n",
        "    zeros = np.zeros_like(y_predicted)\n",
        "    zeros[np.arange(len(y_predicted)),y_predicted.argmax(1)] = 1\n",
        "    y_predicted = zeros\n",
        "    assert(np.shape(y_predicted)==np.shape(y_test))\n",
        "    recall = recall_score(y_test,y_predicted,average=None)\n",
        "    precision = precision_score(y_test,y_predicted,average=None)\n",
        "    fscore = f1_score(y_test,y_predicted,average=None)\n",
        "    # cm = confusion_matrix(y_test,y_predicted)\n",
        "    # print('Confusion matrix = ',cm)\n",
        "    # accuracy = cm.diagonal/cm.sum(axis=0)\n",
        "    accuracy = accuracy_score(y_test,y_predicted)\n",
        "    return accuracy,recall,precision,fscore"
      ],
      "execution_count": 0,
      "outputs": []
    },
    {
      "cell_type": "code",
      "metadata": {
        "id": "NnZ4vr-aEdDy",
        "colab_type": "code",
        "colab": {
          "base_uri": "https://localhost:8080/",
          "height": 246
        },
        "outputId": "cdb42c23-cb4e-4429-9d42-e9dceab91d19"
      },
      "source": [
        "test_tweets,test_sentiment = transform_data(datafolder = 'My Drive/7th Semester/NLP/Assignment-3/dataset',splitname = 'test')\n",
        "X_test,Y_test = create_training_data(test_tweets,test_sentiment)\n",
        "X_test = convert_to_numbers(X_test,char2num,MAXLEN)\n",
        "y_test = np_utils.to_categorical(Y_test,NUM_CLASSES)\n",
        "accuracy,recall,precision,fscore = evaluate(X_test,y_test,model)\n",
        "print('\\n')\n",
        "print('Model Evalutaion Results:')\n",
        "print('Overall Accuracy: ',accuracy)\n",
        "print('\\n')\n",
        "print('Metrics across negative, neutal and positive classes respectively')\n",
        "print('Recall across classes:',recall)\n",
        "print('Precision across classes',precision)\n",
        "print('F score across classes:',fscore)\n"
      ],
      "execution_count": 24,
      "outputs": [
        {
          "output_type": "stream",
          "text": [
            "Lines in original file =  51959\n",
            "Lines after removing links and tags =  40096\n",
            "Max length of sequence of characters in dataset =  141\n",
            "\n",
            "\n",
            "Model Evalutaion Results:\n",
            "Overall Accuracy:  0.4505082932049224\n",
            "\n",
            "\n",
            "Metrics across negative, neutal and positive classes respectively\n",
            "Recall across classes: [0.45778612 0.61803714 0.22680412]\n",
            "Precision across classes [0.44283122 0.44721689 0.47826087]\n",
            "F score across classes: [0.4501845  0.51893096 0.30769231]\n"
          ],
          "name": "stdout"
        }
      ]
    },
    {
      "cell_type": "code",
      "metadata": {
        "id": "fy73AIH8VfJr",
        "colab_type": "code",
        "colab": {}
      },
      "source": [
        ""
      ],
      "execution_count": 0,
      "outputs": []
    }
  ]
}