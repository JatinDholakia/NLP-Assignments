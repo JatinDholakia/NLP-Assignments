{
 "cells": [
  {
   "cell_type": "code",
   "execution_count": 1,
   "metadata": {},
   "outputs": [
    {
     "name": "stderr",
     "output_type": "stream",
     "text": [
      "Using TensorFlow backend.\n"
     ]
    }
   ],
   "source": [
    "from nltk.tokenize import sent_tokenize\n",
    "import codecs\n",
    "import regex as re\n",
    "from sklearn.model_selection import train_test_split\n",
    "import numpy as np\n",
    "\n",
    "from keras.preprocessing.text import Tokenizer\n",
    "from keras.utils import to_categorical\n",
    "from keras.models import Sequential\n",
    "from keras.layers import Dense\n",
    "from keras.layers import LSTM\n",
    "from keras.layers import Embedding"
   ]
  },
  {
   "cell_type": "code",
   "execution_count": 2,
   "metadata": {},
   "outputs": [
    {
     "data": {
      "text/plain": [
       "['<s> i love the people of iowa. </s>', \"<s> so that's the way it is. </s>\"]"
      ]
     },
     "execution_count": 2,
     "metadata": {},
     "output_type": "execute_result"
    }
   ],
   "source": [
    "file = codecs.open('speeches.txt', 'r', 'UTF-8')\n",
    "raw_text = file.read()\n",
    "raw_text = raw_text.replace(\"\\r\\n\",\"\")\n",
    "raw_text = re.sub(r\"[0-9]\",\"\",raw_text)\n",
    "\n",
    "sent_tokenize_list = sent_tokenize(raw_text)\n",
    "sentences = []\n",
    "for s in sent_tokenize_list:\n",
    "    sent = '<s> ' + s.lower() + ' </s>'\n",
    "    sentences.append(sent)\n",
    "train_list,test_list = sentences[:int(len(sentences)*0.8)], sentences[int(len(sentences)*0.8):]\n",
    "train_list[10:12]"
   ]
  },
  {
   "cell_type": "markdown",
   "metadata": {},
   "source": [
    "## Classical Approach"
   ]
  },
  {
   "cell_type": "code",
   "execution_count": 3,
   "metadata": {},
   "outputs": [
    {
     "name": "stdout",
     "output_type": "stream",
     "text": [
      "0.03004506102287208\n",
      "0.9093093093093093\n",
      "0.88\n",
      "1.0\n"
     ]
    }
   ],
   "source": [
    "def nGramCounter(train,n):\n",
    "    counts = {}\n",
    "    for i in train:\n",
    "        tokens = i.split()\n",
    "        for j in range(0,len(tokens)- n + 1,1):\n",
    "            k = tuple(tokens[j:j+n])\n",
    "            if k in counts:\n",
    "                counts[k] += 1\n",
    "            else:\n",
    "                counts[k] = 1\n",
    "    return counts\n",
    "\n",
    "def nGramMLE(inp,counts):\n",
    "    inp = inp.split()\n",
    "    if(len(inp)==1):\n",
    "        return counts[tuple(inp)]/sum(counts.values()) if tuple(inp) in counts else 0\n",
    "    else:\n",
    "        den = 0\n",
    "        for i in counts.keys():\n",
    "            if(i[:-1]==tuple(inp[:-1])):\n",
    "                den += counts[i]        \n",
    "        return counts[tuple(inp)]/den if tuple(inp) in counts else 0\n",
    "\n",
    "counts1 = nGramCounter(train_list,1)\n",
    "counts2 = nGramCounter(train_list,2)\n",
    "counts3 = nGramCounter(train_list,3)\n",
    "counts4 = nGramCounter(train_list,4)\n",
    "\n",
    "print(nGramMLE(\"the\",counts1))\n",
    "print(nGramMLE(\"going to\",counts2))\n",
    "print(nGramMLE(\"we're going to\",counts3))\n",
    "print(nGramMLE(\"<s> we're going to\",counts4))"
   ]
  },
  {
   "cell_type": "code",
   "execution_count": 4,
   "metadata": {},
   "outputs": [
    {
     "name": "stdout",
     "output_type": "stream",
     "text": [
      "['the country. </s>', 'the best way to make our military so unfair. </s>', 'the hell out of you, you can’t do you can keep it was a couple of the next years. </s>', 'the only the people were radicalized and i think it’s going to do it doesn’t work. </s>', 'the united states. </s>']\n",
      "['going to forget about school. </s>', 'going to happen. </s>', 'going to do it themselves, or it will be by both parties — democrats, republicans, independents, everybody, as well as you know what he did one deal. </s>', 'going to do is i’m going to get the five people that want to help the christians, nothing, and we don’t know what that means, he has a baby, lives in asia or lives in asia or lives in mexico if i was with my wife, melania, and we have to open up things, press a computer, takes you minutes.well, the same thing, you have to be privatization. </s>', 'going to be thrilled to be a great quarterback that’s pretty interesting – i don’t have to know what is that the president deems detrimental to the citizens of the things that are obsolete.we’ve got nothing. </s>']\n",
      "[\"we're going to do to knock the hell out of gadhafi. </s>\", \"we're going to do great with the evangelicals because i am in first place by a lot. </s>\", \"we're going to do it now because later is too late — going to be really a story of hope and something that is really great is going to be so smart. </s>\", \"we're going to do fantastically well in iowa. </s>\", \"we're going to do is go and see israel. </s>\"]\n"
     ]
    }
   ],
   "source": [
    "def nGramPredictor(n,counts,initial):\n",
    "    initial = initial.split()\n",
    "    if(n==1):\n",
    "        probs = [i/sum(counts.values()) for i in counts.values()]\n",
    "        c = np.random.multinomial(3,probs,size=None)\n",
    "        return list(counts.keys())[np.argmax(c)]\n",
    "    else:\n",
    "        prob_list = []\n",
    "        all_keys = []\n",
    "        for i in counts.keys():\n",
    "            if(i[:-1]==tuple(initial)):\n",
    "                all_keys.append(i)\n",
    "                prob_list.append(counts[i])\n",
    "        prob_list = [i/sum(prob_list) for i in prob_list]\n",
    "        c = np.random.multinomial(3,prob_list,size=None)\n",
    "        return all_keys[np.argmax(c)][-1]\n",
    "\n",
    "def nGramGenerator(n,counts,maxLength,initial):\n",
    "    gen_text = initial.split()\n",
    "    next_word = gen_text[-1]\n",
    "    while(next_word != '</s>' and len(gen_text) <= maxLength):\n",
    "        next_word = nGramPredictor(n,counts,' '.join(gen_text[-n+1:]))\n",
    "        gen_text.append(next_word)\n",
    "    return ' '.join(gen_text)\n",
    "\n",
    "# [nGramGenerator(n=1,counts = counts1,maxLength=10,initial=\"<s>\") for i in range(5)]\n",
    "print([nGramGenerator(n=2,counts = counts2,maxLength=100,initial=\"the\") for i in range(5)])\n",
    "print([nGramGenerator(n=3,counts = counts3,maxLength=100,initial=\"going to\") for i in range(5)])\n",
    "print([nGramGenerator(n=4,counts = counts4,maxLength=100,initial=\"we're going to\") for i in range(5)])"
   ]
  },
  {
   "cell_type": "markdown",
   "metadata": {},
   "source": [
    "## Neural Approach"
   ]
  },
  {
   "cell_type": "code",
   "execution_count": null,
   "metadata": {},
   "outputs": [],
   "source": [
    "seq = []\n",
    "for i in train_list:\n",
    "    tokens = i.split()\n",
    "    for j in range(0,len(tokens)-1,1):\n",
    "        k = list(tokens[j:j+2])\n",
    "        seq.append(k)"
   ]
  },
  {
   "cell_type": "code",
   "execution_count": null,
   "metadata": {},
   "outputs": [],
   "source": [
    "tokenizer = Tokenizer()\n",
    "tokenizer.fit_on_texts(seq)\n",
    "encoded = tokenizer.texts_to_sequences(seq)\n",
    "\n",
    "X = encoded[:,:-1]\n",
    "y = encoded[:,-1]\n",
    "length = tokenizer.word_index\n",
    "y = to_categorical(y,num_classes = length)"
   ]
  },
  {
   "cell_type": "code",
   "execution_count": null,
   "metadata": {},
   "outputs": [],
   "source": [
    "from keras.layers import SimpleRNN\n",
    "\n",
    "model_rnn = Sequential()\n",
    "model_rnn.add(Embedding(vocab_size,100 , input_length=1))\n",
    "model_rnn.add(SimpleRNN(300))\n",
    "model_rnn.add(Dropout(0.2))\n",
    "model_rnn.add(Dense(vocab_size, activation='softmax'))\n",
    "\n",
    "model_rnn.summary()"
   ]
  },
  {
   "cell_type": "code",
   "execution_count": null,
   "metadata": {},
   "outputs": [],
   "source": [
    "model_rnn.compile(loss='categorical_crossentropy', optimizer='adam', metrics=['accuracy'])\n",
    "model_rnn.fit(X, y, batch_size=128, epochs=20)"
   ]
  },
  {
   "cell_type": "code",
   "execution_count": null,
   "metadata": {},
   "outputs": [],
   "source": [
    "model_lstm = Sequential()\n",
    "model_lstm.add(Embedding(vocab_size, 100, input_length=n_gram-1))\n",
    "model_lstm.add(LSTM(300))\n",
    "model_lstm.add(Dropout(0.2))\n",
    "model_lstm.add(Dense(vocab_size, activation='softmax'))\n",
    "\n",
    "model_lstm.summary()"
   ]
  },
  {
   "cell_type": "code",
   "execution_count": null,
   "metadata": {},
   "outputs": [],
   "source": [
    "model_lstm.compile(loss='categorical_crossentropy', optimizer='adam', metrics=['accuracy'])\n",
    "model_lstm.fit(X, y, batch_size=128, epochs=20)"
   ]
  }
 ],
 "metadata": {
  "kernelspec": {
   "display_name": "Python 3",
   "language": "python",
   "name": "python3"
  },
  "language_info": {
   "codemirror_mode": {
    "name": "ipython",
    "version": 3
   },
   "file_extension": ".py",
   "mimetype": "text/x-python",
   "name": "python",
   "nbconvert_exporter": "python",
   "pygments_lexer": "ipython3",
   "version": "3.6.8"
  }
 },
 "nbformat": 4,
 "nbformat_minor": 2
}
