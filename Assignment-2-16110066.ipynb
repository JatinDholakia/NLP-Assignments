{
 "cells": [
  {
   "cell_type": "code",
   "execution_count": 1,
   "metadata": {},
   "outputs": [
    {
     "data": {
      "text/plain": [
       "['<s> i love the people of iowa. </s>', \"<s> so that's the way it is. </s>\"]"
      ]
     },
     "execution_count": 1,
     "metadata": {},
     "output_type": "execute_result"
    }
   ],
   "source": [
    "from nltk.tokenize import sent_tokenize\n",
    "import codecs\n",
    "import regex as re\n",
    "from sklearn.model_selection import train_test_split\n",
    "import numpy as np\n",
    "\n",
    "file = codecs.open('speeches.txt', 'r', 'UTF-8')\n",
    "raw_text = file.read()\n",
    "raw_text = raw_text.replace(\"\\r\\n\",\"\")\n",
    "raw_text = re.sub(r\"[0-9]\",\"\",raw_text)\n",
    "\n",
    "sent_tokenize_list = sent_tokenize(raw_text)\n",
    "sentences = []\n",
    "for s in sent_tokenize_list:\n",
    "    sent = '<s> ' + s.lower() + ' </s>'\n",
    "    sentences.append(sent)\n",
    "train_list,test_list = sentences[:int(len(sentences)*0.8)], sentences[int(len(sentences)*0.8):]\n",
    "train_list[10:12]"
   ]
  },
  {
   "cell_type": "markdown",
   "metadata": {},
   "source": [
    "## Classical Approach"
   ]
  },
  {
   "cell_type": "code",
   "execution_count": 9,
   "metadata": {},
   "outputs": [
    {
     "name": "stdout",
     "output_type": "stream",
     "text": [
      "0.03004506102287208\n",
      "0.9093093093093093\n",
      "0.88\n",
      "1.0\n"
     ]
    }
   ],
   "source": [
    "def nGramCounter(train,n):\n",
    "    counts = {}\n",
    "    for i in train:\n",
    "        tokens = i.split()\n",
    "        for j in range(0,len(tokens)- n + 1,1):\n",
    "            k = tuple(tokens[j:j+n])\n",
    "            if k in counts:\n",
    "                counts[k] += 1\n",
    "            else:\n",
    "                counts[k] = 1\n",
    "    return counts\n",
    "\n",
    "def nGramMLE(inp,counts):\n",
    "    inp = inp.split()\n",
    "    if(len(inp)==1):\n",
    "        return counts[tuple(inp)]/sum(counts.values()) if tuple(inp) in counts else 0\n",
    "    else:\n",
    "        den = 0\n",
    "        for i in counts.keys():\n",
    "            if(i[:-1]==tuple(inp[:-1])):\n",
    "                den += counts[i]        \n",
    "        return counts[tuple(inp)]/den if tuple(inp) in counts else 0\n",
    "\n",
    "counts1 = nGramCounter(train_list,1)\n",
    "counts2 = nGramCounter(train_list,2)\n",
    "counts3 = nGramCounter(train_list,3)\n",
    "counts4 = nGramCounter(train_list,4)\n",
    "\n",
    "print(nGramMLE(\"the\",counts1))\n",
    "print(nGramMLE(\"going to\",counts2))\n",
    "print(nGramMLE(\"we're going to\",counts3))\n",
    "print(nGramMLE(\"<s> we're going to\",counts4))"
   ]
  },
  {
   "cell_type": "code",
   "execution_count": 14,
   "metadata": {},
   "outputs": [
    {
     "data": {
      "text/plain": [
       "[\"we're going to start winning again.so, second amendment protected. </s>\",\n",
       " \"we're going to do it fast; we have to stop doing things for some people, but for this country, and what’s going wrong with our country – massive companies – because they can’t get the banks to give you the names right now, which is not a testament to me but a testament to me but a testament to all of those bernie sanders voters who have been left out in the battlefield, trying to kill us from coming in. </s>\",\n",
       " \"we're going to do it, folks. </s>\",\n",
       " \"we're going to do is look at his credit card. </s>\",\n",
       " \"we're going to nevada.i lead -- i lead with the hispanics. </s>\"]"
      ]
     },
     "execution_count": 14,
     "metadata": {},
     "output_type": "execute_result"
    }
   ],
   "source": [
    "def nGramPredictor(n,counts,initial):\n",
    "    initial = initial.split()\n",
    "    if(n==1):\n",
    "        probs = [i/sum(counts.values()) for i in counts.values()]\n",
    "        c = np.random.multinomial(3,probs,size=None)\n",
    "        return list(counts.keys())[np.argmax(c)]\n",
    "    else:\n",
    "        prob_list = []\n",
    "        all_keys = []\n",
    "        for i in counts.keys():\n",
    "            if(i[:-1]==tuple(initial)):\n",
    "                all_keys.append(i)\n",
    "                prob_list.append(counts[i])\n",
    "        prob_list = [i/sum(prob_list) for i in prob_list]\n",
    "        c = np.random.multinomial(3,prob_list,size=None)\n",
    "        return all_keys[np.argmax(c)][-1]\n",
    "\n",
    "def nGramGenerator(n,counts,maxLength,initial):\n",
    "    gen_text = initial.split()\n",
    "    next_word = gen_text[-1]\n",
    "    while(next_word != '</s>' and len(gen_text) <= maxLength):\n",
    "        next_word = nGramPredictor(n,counts,' '.join(gen_text[-n+1:]))\n",
    "        gen_text.append(next_word)\n",
    "    return ' '.join(gen_text)\n",
    "\n",
    "# [nGramGenerator(n=1,counts = counts1,maxLength=10,initial=\"<s>\") for i in range(5)]\n",
    "print([nGramGenerator(n=2,counts = counts2,maxLength=100,initial=\"the\") for i in range(5)])\n",
    "print([nGramGenerator(n=3,counts = counts3,maxLength=100,initial=\"going to\") for i in range(5)])\n",
    "print([nGramGenerator(n=4,counts = counts4,maxLength=100,initial=\"we're going to\") for i in range(5)])"
   ]
  },
  {
   "cell_type": "markdown",
   "metadata": {},
   "source": [
    "## Neural Approach"
   ]
  },
  {
   "cell_type": "code",
   "execution_count": null,
   "metadata": {},
   "outputs": [],
   "source": [
    "with open('speeches.txt','r',encoding='utf-8') as f:\n",
    "    sent = f.read().replace(\"\\n\",\"\")\n",
    "sent = sent.encode('ascii','ignore').decode('ascii')\n",
    "sent = sent.lower()\n"
   ]
  },
  {
   "cell_type": "code",
   "execution_count": null,
   "metadata": {},
   "outputs": [],
   "source": []
  }
 ],
 "metadata": {
  "kernelspec": {
   "display_name": "Python 3",
   "language": "python",
   "name": "python3"
  },
  "language_info": {
   "codemirror_mode": {
    "name": "ipython",
    "version": 3
   },
   "file_extension": ".py",
   "mimetype": "text/x-python",
   "name": "python",
   "nbconvert_exporter": "python",
   "pygments_lexer": "ipython3",
   "version": "3.6.8"
  }
 },
 "nbformat": 4,
 "nbformat_minor": 2
}
